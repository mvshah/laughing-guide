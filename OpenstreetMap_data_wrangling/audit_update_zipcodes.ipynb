{
 "cells": [
  {
   "cell_type": "code",
   "execution_count": null,
   "metadata": {
    "collapsed": true
   },
   "outputs": [],
   "source": [
    "## The following code is used to audit the zipcodes and improve them \n",
    "## The code can be found in audit_update_zipcodes.ipynb\n",
    "import xml.etree.cElementTree as ET\n",
    "from collections import defaultdict\n",
    "import re\n",
    "import pprint\n",
    "\n",
    "OSMFILE = 'des_moines.osm'\n",
    "postal_code_re = re.compile(r'^[0-9]{5}?$')\n",
    "\n",
    "def audit_zipcodes(osmfile):\n",
    "    osm_file = open(osmfile, \"r\", encoding=\"utf8\")\n",
    "    postal_codes = defaultdict(set)\n",
    "    for event, elem in ET.iterparse(osm_file, events=(\"start\",)): # TODO: Learn about what events param does\n",
    "        if elem.tag == \"node\" or elem.tag == \"way\":\n",
    "            for tag in elem.iter(\"tag\"):\n",
    "                if is_postal_codes(tag):\n",
    "                    m = postal_code_re.search(tag.attrib['v'])\n",
    "                    if m:\n",
    "                        postal_codes['correct'].add(m.group())\n",
    "                    else:\n",
    "                        postal_codes['incorrect'].add(tag.attrib['v'])\n",
    "                \n",
    "    osm_file.close()\n",
    "    return postal_codes\n",
    "\n",
    "\n",
    "def is_postal_codes(elem):\n",
    "    return (elem.attrib['k'] == \"addr:postcode\")\n",
    "\n",
    "st_types = audit_zipcodes(OSMFILE)\n",
    "pprint.pprint(dict(st_types))"
   ]
  },
  {
   "cell_type": "code",
   "execution_count": null,
   "metadata": {
    "collapsed": true
   },
   "outputs": [],
   "source": [
    "import zipcodes\n",
    "def update_zipcode(zipcode):\n",
    "    #return re.sub('(\\d{5})-\\d{4}', '\\\\1', zipcode)\n",
    "    #print(zipcode)\n",
    "    b = re.findall(r'\\d+', zipcode)\n",
    "    if b: \n",
    "        return b[0]\n",
    "\n",
    "\n",
    "    \n",
    "st_types = audit_zipcodes(OSMFILE)\n",
    "\n",
    "for st_type, ways in st_types.items(): # changed this method from .iteritems() from 2.7 to 3.6's .items()  \n",
    "        for name in ways:\n",
    "            better_name = update_zipcode(name)\n",
    "            print (name, \"=>\", better_name)"
   ]
  }
 ],
 "metadata": {
  "kernelspec": {
   "display_name": "Python 3",
   "language": "python",
   "name": "python3"
  },
  "language_info": {
   "codemirror_mode": {
    "name": "ipython",
    "version": 3
   },
   "file_extension": ".py",
   "mimetype": "text/x-python",
   "name": "python",
   "nbconvert_exporter": "python",
   "pygments_lexer": "ipython3",
   "version": "3.6.2"
  }
 },
 "nbformat": 4,
 "nbformat_minor": 2
}
