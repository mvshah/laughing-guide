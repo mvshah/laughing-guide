{
 "cells": [
  {
   "cell_type": "code",
   "execution_count": null,
   "metadata": {
    "collapsed": true
   },
   "outputs": [],
   "source": [
    "# import required modules\n",
    "import requests\n",
    "import xml.etree.cElementTree as ET\n",
    "import pprint\n",
    "import re\n",
    "from collections import defaultdict\n",
    "import csv\n",
    "import codecs\n",
    "import cerberus\n",
    "import schema\n",
    "import os"
   ]
  },
  {
   "cell_type": "code",
   "execution_count": null,
   "metadata": {
    "collapsed": true
   },
   "outputs": [],
   "source": [
    "# Assign a variable for the osm file\n",
    "des_moines_info = \"des_moines.osm\""
   ]
  },
  {
   "cell_type": "code",
   "execution_count": null,
   "metadata": {
    "collapsed": true
   },
   "outputs": [],
   "source": [
    "# This function count the number of each tag in the data for des moines osm file\n",
    "#This function can be found in map_parser.py\n",
    "\n",
    "def count_tags(filename):\n",
    "        # YOUR CODE HERE\n",
    "        store_tags = {}\n",
    "        for _, val in ET.iterparse(filename):\n",
    "            if val.tag in store_tags:\n",
    "                store_tags[val.tag] += 1\n",
    "            else:\n",
    "                store_tags[val.tag] = 1\n",
    "        return store_tags  \n",
    "\n",
    "pprint.pprint(count_tags(san_jose_info))"
   ]
  },
  {
   "cell_type": "code",
   "execution_count": null,
   "metadata": {
    "collapsed": true
   },
   "outputs": [],
   "source": [
    "# This function is used for checking Contents of Tags for Bad Characters   \n",
    "# This function can be found in map_parser.py\n",
    "\n",
    "lower = re.compile(r'^([a-z]|_)*$')\n",
    "lower_colon = re.compile(r'^([a-z]|_)*:([a-z]|_)*$')\n",
    "problemchars = re.compile(r'[=\\+/&<>;\\'\"?%#$@\\,\\. \\t\\r\\n]')\n",
    "\n",
    "\n",
    "def key_type(element, keys):\n",
    "    if element.tag == \"tag\":\n",
    "        # YOUR CODE HERE\n",
    "        \n",
    "        keycontents = element.attrib['k']\n",
    "        if(re.match(lower, keycontents) != None):\n",
    "            keys[\"lower\"] = keys[\"lower\"] + 1\n",
    "        elif(re.match(lower_colon, keycontents) != None):\n",
    "            keys[\"lower_colon\"] = keys[\"lower_colon\"] + 1\n",
    "        elif(re.match(problemchars, keycontents) != None):\n",
    "            keys[\"problemchars\"] = keys[\"problemchars\"] + 1\n",
    "        else:\n",
    "            #print(keycontents)\n",
    "            keys[\"other\"] = keys[\"other\"] + 1\n",
    "        \n",
    "        \n",
    "    return keys\n",
    "\n",
    "\n",
    "\n",
    "def process_map(filename):\n",
    "    keys = {\"lower\": 0, \"lower_colon\": 0, \"problemchars\": 0, \"other\": 0}\n",
    "    for _, element in ET.iterparse(filename):\n",
    "        keys = key_type(element, keys)\n",
    "    return keys\n",
    "\n",
    "pprint.pprint(process_map(des_moines_info))"
   ]
  },
  {
   "cell_type": "code",
   "execution_count": null,
   "metadata": {
    "collapsed": true
   },
   "outputs": [],
   "source": [
    "## The code in this cell will give a list of the unique users that contributed to the file provided\n",
    "## This function can be found in map_parser.py\n",
    "\n",
    "def get_user(element):\n",
    "    return element.attrib[\"uid\"]\n",
    "\n",
    "\n",
    "def process_map(filename):\n",
    "    users = set()\n",
    "    for _, element in ET.iterparse(filename):\n",
    "        if 'uid' in element.attrib:\n",
    "            users.add(get_user(element))\n",
    "\n",
    "    return users\n",
    "\n",
    "pprint.pprint(len(process_map(des_moines_info)))"
   ]
  }
 ],
 "metadata": {
  "kernelspec": {
   "display_name": "Python 3",
   "language": "python",
   "name": "python3"
  },
  "language_info": {
   "codemirror_mode": {
    "name": "ipython",
    "version": 3
   },
   "file_extension": ".py",
   "mimetype": "text/x-python",
   "name": "python",
   "nbconvert_exporter": "python",
   "pygments_lexer": "ipython3",
   "version": "3.6.2"
  }
 },
 "nbformat": 4,
 "nbformat_minor": 2
}
