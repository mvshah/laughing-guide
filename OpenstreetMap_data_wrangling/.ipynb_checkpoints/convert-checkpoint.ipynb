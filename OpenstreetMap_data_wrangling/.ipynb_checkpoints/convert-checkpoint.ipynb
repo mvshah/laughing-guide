{
 "cells": [
  {
   "cell_type": "code",
   "execution_count": 51,
   "metadata": {
    "collapsed": true
   },
   "outputs": [],
   "source": [
    "from tempfile import mkstemp\n",
    "from shutil import move\n",
    "from os import fdopen, remove\n",
    "\n",
    "import re\n",
    "with open ('nodes_sample.txt', 'r') as f:\n",
    "    with open(\"out.txt\", \"r+\") as f1:\n",
    "        next(f)\n",
    "        counter = 0\n",
    "        for line in f:\n",
    "            for line1 in f1:\n",
    "                counter = counter + 1\n",
    "                if(line not in ['\\n', '\\r\\n'] and counter < 10):\n",
    "                        x = line.split(\",\")\n",
    "                        temp = []\n",
    "                        temp.append(int(re.search('[0-9]+', x[0]).group()))\n",
    "                        print(temp[0])\n",
    "                        reg = (re.findall(r\"'(.*?)'\", x[1], re.DOTALL))\n",
    "                        temp.append(float(reg[0]))\n",
    "                        reg1 = (re.findall(r\"'(.*?)'\", x[2], re.DOTALL))\n",
    "                        temp.append(float(reg1[0]))\n",
    "                        reg2 = (re.findall(r\"'(.*?)'\", x[3], re.DOTALL))\n",
    "                        temp.append((reg2[0]))\n",
    "                        temp.append(int(re.search('[0-9]+', x[4]).group()))\n",
    "                        temp.append(int(re.search('[0-9]+', x[5]).group()))\n",
    "                        temp.append(int(re.search('[0-9]+', x[6]).group()))\n",
    "                        reg3 = (re.findall(r\"'(.*?)'\", x[7], re.DOTALL))\n",
    "                        temp.append((reg3[0]))\n",
    "                        print(temp)\n",
    "                    #line.replace(line, temp)\n",
    "                    \n",
    "def replace(file_path, pattern, subst):\n",
    "    #Create temp file\n",
    "    fh, abs_path = mkstemp()\n",
    "    with fdopen(fh,'w') as new_file:\n",
    "        with open('nodes_sample.txt') as old_file:\n",
    "            for line in old_file:\n",
    "                new_file.write(line.replace(pattern, subst))\n",
    "    #Remove original file\n",
    "    remove(file_path)\n",
    "    #Move new file\n",
    "    move(abs_path, file_path)"
   ]
  },
  {
   "cell_type": "code",
   "execution_count": 34,
   "metadata": {},
   "outputs": [
    {
     "data": {
      "text/plain": [
       "int"
      ]
     },
     "execution_count": 34,
     "metadata": {},
     "output_type": "execute_result"
    }
   ],
   "source": [
    "def replace(file_path, pattern, subst):\n",
    "    #Create temp file\n",
    "    fh, abs_path = mkstemp()\n",
    "    with fdopen(fh,'w') as new_file:\n",
    "        with open('nodes_I.csv') as old_file:\n",
    "            for line in old_file:\n",
    "                new_file.write(line.replace(pattern, subst))\n",
    "    #Remove original file\n",
    "    remove(file_path)\n",
    "    #Move new file\n",
    "    move(abs_path, file_path)"
   ]
  },
  {
   "cell_type": "code",
   "execution_count": 55,
   "metadata": {},
   "outputs": [
    {
     "name": "stdout",
     "output_type": "stream",
     "text": [
      "31535373\n",
      "[31535373, 41.592228, -93.79504, 'trayhons', 141719, 2, 2917529, '2009-10-21T23:58:17Z']\n",
      "31535374\n",
      "[31535374, 41.592217, -93.799369, 'trayhons', 141719, 2, 2917529, '2009-10-21T23:58:17Z']\n",
      "31535375\n",
      "[31535375, 41.5921534, -93.8045573, 'Scott Lincoln', 101788, 2, 1229068, '2009-05-17T21:33:44Z']\n",
      "31535376\n",
      "[31535376, 41.5920956, -93.8072266, 'Scott Lincoln', 101788, 2, 1229068, '2009-05-17T21:33:45Z']\n"
     ]
    }
   ],
   "source": [
    "from tempfile import mkstemp\n",
    "from shutil import move\n",
    "from os import fdopen, remove\n",
    "\n",
    "import re\n",
    "with open ('nodes_sample.txt', 'r') as f:\n",
    "    with open(\"out.txt\", \"r+\") as f1:\n",
    "        next(f)\n",
    "        counter = 0\n",
    "        for line in f:\n",
    "            counter = counter + 1\n",
    "            if(line not in ['\\n', '\\r\\n'] and counter < 10):\n",
    "                    x = line.split(\",\")\n",
    "                    temp = []\n",
    "                    temp.append(int(re.search('[0-9]+', x[0]).group()))\n",
    "                    print(temp[0])\n",
    "                    for line1 in f1:\n",
    "                        line1.write(line)\n",
    "                    reg = (re.findall(r\"'(.*?)'\", x[1], re.DOTALL))\n",
    "                    temp.append(float(reg[0]))\n",
    "                    reg1 = (re.findall(r\"'(.*?)'\", x[2], re.DOTALL))\n",
    "                    temp.append(float(reg1[0]))\n",
    "                    reg2 = (re.findall(r\"'(.*?)'\", x[3], re.DOTALL))\n",
    "                    temp.append((reg2[0]))\n",
    "                    temp.append(int(re.search('[0-9]+', x[4]).group()))\n",
    "                    temp.append(int(re.search('[0-9]+', x[5]).group()))\n",
    "                    temp.append(int(re.search('[0-9]+', x[6]).group()))\n",
    "                    reg3 = (re.findall(r\"'(.*?)'\", x[7], re.DOTALL))\n",
    "                    temp.append((reg3[0]))\n",
    "                    print(temp)"
   ]
  },
  {
   "cell_type": "code",
   "execution_count": 12,
   "metadata": {},
   "outputs": [],
   "source": [
    "import pandas as pd\n",
    "\n",
    "df=pd.read_csv('nodes_I.csv')"
   ]
  },
  {
   "cell_type": "code",
   "execution_count": 13,
   "metadata": {},
   "outputs": [
    {
     "data": {
      "text/plain": [
       "Index([''id'', ''lat'', ''lon'', ''user'', ''uid'', ''version'', ''changeset'',\n",
       "       ''timestamp''],\n",
       "      dtype='object')"
      ]
     },
     "execution_count": 13,
     "metadata": {},
     "output_type": "execute_result"
    }
   ],
   "source": [
    "df.dtypes\n",
    "df.columns"
   ]
  },
  {
   "cell_type": "code",
   "execution_count": 10,
   "metadata": {},
   "outputs": [
    {
     "ename": "AttributeError",
     "evalue": "'DataFrame' object has no attribute 'id'",
     "output_type": "error",
     "traceback": [
      "\u001b[1;31m---------------------------------------------------------------------------\u001b[0m",
      "\u001b[1;31mAttributeError\u001b[0m                            Traceback (most recent call last)",
      "\u001b[1;32m<ipython-input-10-432f03c7ed75>\u001b[0m in \u001b[0;36m<module>\u001b[1;34m()\u001b[0m\n\u001b[1;32m----> 1\u001b[1;33m \u001b[0mdf\u001b[0m\u001b[1;33m[\u001b[0m\u001b[1;34m'id'\u001b[0m\u001b[1;33m]\u001b[0m \u001b[1;33m=\u001b[0m \u001b[0mdf\u001b[0m\u001b[1;33m.\u001b[0m\u001b[0mid\u001b[0m\u001b[1;33m.\u001b[0m\u001b[0mastype\u001b[0m\u001b[1;33m(\u001b[0m\u001b[0mint\u001b[0m\u001b[1;33m)\u001b[0m\u001b[1;33m\u001b[0m\u001b[0m\n\u001b[0m",
      "\u001b[1;32mC:\\ProgramData\\Anaconda3\\lib\\site-packages\\pandas\\core\\generic.py\u001b[0m in \u001b[0;36m__getattr__\u001b[1;34m(self, name)\u001b[0m\n\u001b[0;32m   3079\u001b[0m             \u001b[1;32mif\u001b[0m \u001b[0mname\u001b[0m \u001b[1;32min\u001b[0m \u001b[0mself\u001b[0m\u001b[1;33m.\u001b[0m\u001b[0m_info_axis\u001b[0m\u001b[1;33m:\u001b[0m\u001b[1;33m\u001b[0m\u001b[0m\n\u001b[0;32m   3080\u001b[0m                 \u001b[1;32mreturn\u001b[0m \u001b[0mself\u001b[0m\u001b[1;33m[\u001b[0m\u001b[0mname\u001b[0m\u001b[1;33m]\u001b[0m\u001b[1;33m\u001b[0m\u001b[0m\n\u001b[1;32m-> 3081\u001b[1;33m             \u001b[1;32mreturn\u001b[0m \u001b[0mobject\u001b[0m\u001b[1;33m.\u001b[0m\u001b[0m__getattribute__\u001b[0m\u001b[1;33m(\u001b[0m\u001b[0mself\u001b[0m\u001b[1;33m,\u001b[0m \u001b[0mname\u001b[0m\u001b[1;33m)\u001b[0m\u001b[1;33m\u001b[0m\u001b[0m\n\u001b[0m\u001b[0;32m   3082\u001b[0m \u001b[1;33m\u001b[0m\u001b[0m\n\u001b[0;32m   3083\u001b[0m     \u001b[1;32mdef\u001b[0m \u001b[0m__setattr__\u001b[0m\u001b[1;33m(\u001b[0m\u001b[0mself\u001b[0m\u001b[1;33m,\u001b[0m \u001b[0mname\u001b[0m\u001b[1;33m,\u001b[0m \u001b[0mvalue\u001b[0m\u001b[1;33m)\u001b[0m\u001b[1;33m:\u001b[0m\u001b[1;33m\u001b[0m\u001b[0m\n",
      "\u001b[1;31mAttributeError\u001b[0m: 'DataFrame' object has no attribute 'id'"
     ]
    }
   ],
   "source": [
    "df[['id','lat','lon','uid','version','changeset']] = df[['id','lat','lon','uid','version','changeset']].astype(float)"
   ]
  },
  {
   "cell_type": "code",
   "execution_count": 7,
   "metadata": {},
   "outputs": [
    {
     "data": {
      "text/plain": [
       "'id'           object\n",
       "'lat'          object\n",
       "'lon'          object\n",
       "'user'         object\n",
       "'uid'          object\n",
       "'version'      object\n",
       "'changeset'    object\n",
       "'timestamp'    object\n",
       "dtype: object"
      ]
     },
     "execution_count": 7,
     "metadata": {},
     "output_type": "execute_result"
    }
   ],
   "source": [
    "df.dtypes\n"
   ]
  },
  {
   "cell_type": "code",
   "execution_count": null,
   "metadata": {
    "collapsed": true
   },
   "outputs": [],
   "source": []
  }
 ],
 "metadata": {
  "kernelspec": {
   "display_name": "Python 3",
   "language": "python",
   "name": "python3"
  },
  "language_info": {
   "codemirror_mode": {
    "name": "ipython",
    "version": 3
   },
   "file_extension": ".py",
   "mimetype": "text/x-python",
   "name": "python",
   "nbconvert_exporter": "python",
   "pygments_lexer": "ipython3",
   "version": "3.6.2"
  }
 },
 "nbformat": 4,
 "nbformat_minor": 2
}
