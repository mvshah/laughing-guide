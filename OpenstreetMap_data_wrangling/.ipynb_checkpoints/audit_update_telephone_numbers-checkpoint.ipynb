{
 "cells": [
  {
   "cell_type": "markdown",
   "metadata": {},
   "source": [
    "#### The following code can be used to audit telephone numbers and improve them\n",
    "#### The code can be found in audit_update_telephone_numbers.ipynb"
   ]
  },
  {
   "cell_type": "code",
   "execution_count": null,
   "metadata": {
    "collapsed": true
   },
   "outputs": [],
   "source": [
    "\n",
    "import xml.etree.cElementTree as ET\n",
    "from collections import defaultdict\n",
    "import re\n",
    "import pprint\n",
    "\n",
    "#OSMFILE = 'example.osm'\n",
    "OSMFILE = 'des_moines.osm'\n",
    "#telephone_re = re.compile(r'^(\\d{3})-(\\d{3})-(\\d{4})$') \n",
    "telephone_re = re.compile(r'^\\(\\d{3}\\)\\s(\\d{3})-(\\d{4})$') \n",
    "\n",
    "def audit_phone_number(osmfile):\n",
    "    osm_file = open(osmfile, \"r\", encoding=\"utf8\")\n",
    "    phone_numbers = defaultdict(set)\n",
    "    for event, elem in ET.iterparse(osm_file, events=(\"start\",)): # TODO: Learn about what events param does\n",
    "        if elem.tag == \"node\" or elem.tag == \"way\":\n",
    "            for tag in elem.iter(\"tag\"):\n",
    "                if is_phone_number(tag):\n",
    "                    m = telephone_re.search(tag.attrib['v'])\n",
    "                    if m:\n",
    "                        phone_numbers['correct'].add(m.group())\n",
    "                    else:\n",
    "                        phone_numbers['incorrect'].add(tag.attrib['v'])\n",
    "    osm_file.close()\n",
    "    return phone_numbers\n",
    "    \n",
    "\n",
    "def is_phone_number(elem):\n",
    "    return (elem.attrib['k'] == \"phone\" or elem.attrib['k'] == \"contact:phone\")\n",
    "\n",
    "#def update phone_number()\n",
    "phone_types = audit_phone_number(OSMFILE)\n",
    "pprint.pprint(dict(phone_types))"
   ]
  },
  {
   "cell_type": "code",
   "execution_count": null,
   "metadata": {
    "collapsed": true
   },
   "outputs": [],
   "source": [
    "import phonenumbers\n",
    "def update_phone_number(phone_no):\n",
    "    for match in phonenumbers.PhoneNumberMatcher(phone_no, \"US\"):\n",
    "        return phonenumbers.format_number(match.number, phonenumbers.PhoneNumberFormat.NATIONAL)\n",
    "OSMFILE = 'des_moines.osm'       \n",
    "st_types = audit_phone_number(OSMFILE)\n",
    "\n",
    "for st_type, ways in st_types.items(): # changed this method from .iteritems() from 2.7 to 3.6's .items()  \n",
    "        for name in ways:\n",
    "            better_name = update_phone_number(name)\n",
    "            print (name, \"=>\", better_name)  "
   ]
  }
 ],
 "metadata": {
  "kernelspec": {
   "display_name": "Python 3",
   "language": "python",
   "name": "python3"
  },
  "language_info": {
   "codemirror_mode": {
    "name": "ipython",
    "version": 3
   },
   "file_extension": ".py",
   "mimetype": "text/x-python",
   "name": "python",
   "nbconvert_exporter": "python",
   "pygments_lexer": "ipython3",
   "version": "3.6.2"
  }
 },
 "nbformat": 4,
 "nbformat_minor": 2
}
